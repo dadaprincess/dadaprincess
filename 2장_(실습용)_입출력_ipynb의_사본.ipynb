{
  "nbformat": 4,
  "nbformat_minor": 0,
  "metadata": {
    "colab": {
      "name": "2장-(실습용)-입출력.ipynb의 사본",
      "provenance": [],
      "include_colab_link": true
    },
    "kernelspec": {
      "name": "python3",
      "display_name": "Python 3"
    }
  },
  "cells": [
    {
      "cell_type": "markdown",
      "metadata": {
        "id": "view-in-github",
        "colab_type": "text"
      },
      "source": [
        "<a href=\"https://colab.research.google.com/github/dadaprincess/dadaprincess/blob/main/2%EC%9E%A5_(%EC%8B%A4%EC%8A%B5%EC%9A%A9)_%EC%9E%85%EC%B6%9C%EB%A0%A5_ipynb%EC%9D%98_%EC%82%AC%EB%B3%B8.ipynb\" target=\"_parent\"><img src=\"https://colab.research.google.com/assets/colab-badge.svg\" alt=\"Open In Colab\"/></a>"
      ]
    },
    {
      "cell_type": "markdown",
      "metadata": {
        "id": "6VICvDDuPykk"
      },
      "source": [
        "\n",
        "# 1. 파이썬 명령어 형식\n",
        "<img src='https://github.com/teacher-jiejie/allinone_AI/blob/images/0_%EB%AA%85%EB%A0%B9%EC%96%B4.png?raw=true' width=400>"
      ]
    },
    {
      "cell_type": "markdown",
      "metadata": {
        "id": "LJAHyqRXU_tN"
      },
      "source": [
        "# 2. 출력명령어 \n",
        "### 출력 명령어 형식\n",
        "\n",
        "\n",
        "> print( 출력할 내용 )\n",
        "\n",
        "\n"
      ]
    },
    {
      "cell_type": "code",
      "metadata": {
        "id": "fHog4iYYL-q4",
        "outputId": "d6b2c388-6698-47ed-ab2f-d91195e6a806",
        "colab": {
          "base_uri": "https://localhost:8080/"
        }
      },
      "source": [
        "print(123)"
      ],
      "execution_count": null,
      "outputs": [
        {
          "output_type": "stream",
          "name": "stdout",
          "text": [
            "123\n"
          ]
        }
      ]
    },
    {
      "cell_type": "code",
      "metadata": {
        "id": "-Mn2gKC1y2XL",
        "outputId": "1a7bf2b2-87c8-4511-ba5e-c2e672d3dcfa",
        "colab": {
          "base_uri": "https://localhost:8080/"
        }
      },
      "source": [
        "print('다예는 공주님이다')"
      ],
      "execution_count": null,
      "outputs": [
        {
          "output_type": "stream",
          "name": "stdout",
          "text": [
            "다예는 공주님이다\n"
          ]
        }
      ]
    },
    {
      "cell_type": "markdown",
      "metadata": {
        "id": "KqFYkVtu_foZ"
      },
      "source": [
        "### 문자는 따옴표로 감싸주어야 함\n",
        "> print('문자')"
      ]
    },
    {
      "cell_type": "code",
      "metadata": {
        "id": "HndD3I4ybonQ",
        "outputId": "60f14897-ebbb-4f88-d1a8-83f748e24ee8",
        "colab": {
          "base_uri": "https://localhost:8080/"
        }
      },
      "source": [
        "print('다예야 공부하자')"
      ],
      "execution_count": null,
      "outputs": [
        {
          "output_type": "stream",
          "name": "stdout",
          "text": [
            "다예야 공부하자\n"
          ]
        }
      ]
    },
    {
      "cell_type": "code",
      "metadata": {
        "id": "GXO9r4k0_M42",
        "outputId": "2bf6443d-1b42-4033-b574-dd8b530d01f7",
        "colab": {
          "base_uri": "https://localhost:8080/"
        }
      },
      "source": [
        "print('다예야 다이어트 하자')"
      ],
      "execution_count": null,
      "outputs": [
        {
          "output_type": "stream",
          "name": "stdout",
          "text": [
            "다예야 다이어트 하자\n"
          ]
        }
      ]
    },
    {
      "cell_type": "code",
      "metadata": {
        "id": "_eXE0Zei_TnT"
      },
      "source": [
        ""
      ],
      "execution_count": null,
      "outputs": []
    },
    {
      "cell_type": "code",
      "metadata": {
        "id": "RqdNnVh2bopV"
      },
      "source": [
        ""
      ],
      "execution_count": null,
      "outputs": []
    },
    {
      "cell_type": "code",
      "metadata": {
        "id": "h2t7k_yh-IMC"
      },
      "source": [
        "# 숫자라 하더라도 따옴표로 감싸면 문자로 인식"
      ],
      "execution_count": null,
      "outputs": []
    },
    {
      "cell_type": "code",
      "source": [
        "print('123')"
      ],
      "metadata": {
        "id": "85g7DwDtjz5N",
        "outputId": "52b23ef0-2b6b-4dd0-a128-c4570ea9d608",
        "colab": {
          "base_uri": "https://localhost:8080/"
        }
      },
      "execution_count": null,
      "outputs": [
        {
          "output_type": "stream",
          "name": "stdout",
          "text": [
            "123\n"
          ]
        }
      ]
    },
    {
      "cell_type": "code",
      "source": [
        "print(123+2)"
      ],
      "metadata": {
        "id": "Tc8Ljd9rkGim",
        "outputId": "713f1ff6-3475-4416-a7d4-85e560d1e5e5",
        "colab": {
          "base_uri": "https://localhost:8080/"
        }
      },
      "execution_count": null,
      "outputs": [
        {
          "output_type": "stream",
          "name": "stdout",
          "text": [
            "125\n"
          ]
        }
      ]
    },
    {
      "cell_type": "code",
      "source": [
        "print(108*8)"
      ],
      "metadata": {
        "id": "61rc6LtSkPoK",
        "outputId": "ba515693-3eb8-4f06-e86b-2a4ce630387c",
        "colab": {
          "base_uri": "https://localhost:8080/"
        }
      },
      "execution_count": null,
      "outputs": [
        {
          "output_type": "stream",
          "name": "stdout",
          "text": [
            "864\n"
          ]
        }
      ]
    },
    {
      "cell_type": "code",
      "source": [
        "print(108%8)"
      ],
      "metadata": {
        "id": "lqrS2C1akXOb",
        "outputId": "39b68944-9703-4bcc-b537-d1281e6a8561",
        "colab": {
          "base_uri": "https://localhost:8080/"
        }
      },
      "execution_count": null,
      "outputs": [
        {
          "output_type": "stream",
          "name": "stdout",
          "text": [
            "4\n"
          ]
        }
      ]
    },
    {
      "cell_type": "code",
      "source": [
        "print(108/8)"
      ],
      "metadata": {
        "id": "MfPgShJhkdlr",
        "outputId": "517db751-078a-4a03-b919-92287afac19b",
        "colab": {
          "base_uri": "https://localhost:8080/"
        }
      },
      "execution_count": null,
      "outputs": [
        {
          "output_type": "stream",
          "name": "stdout",
          "text": [
            "13.5\n"
          ]
        }
      ]
    },
    {
      "cell_type": "code",
      "metadata": {
        "id": "osxJgfZU_b3y",
        "outputId": "50d572aa-486a-471d-81ff-e6eabd00bb10",
        "colab": {
          "base_uri": "https://localhost:8080/"
        }
      },
      "source": [
        "# ** 제곱\n",
        "\n",
        "print(13**3)\n",
        "# 몫\n",
        "\n",
        "print(180%3)\n",
        "# 나머지\n",
        "\n"
      ],
      "execution_count": null,
      "outputs": [
        {
          "output_type": "stream",
          "name": "stdout",
          "text": [
            "2197\n",
            "0\n"
          ]
        }
      ]
    },
    {
      "cell_type": "code",
      "source": [
        ""
      ],
      "metadata": {
        "id": "ZoqKtcG6kc3s"
      },
      "execution_count": null,
      "outputs": []
    },
    {
      "cell_type": "code",
      "source": [
        ""
      ],
      "metadata": {
        "id": "G7H7sLr5kWkK"
      },
      "execution_count": null,
      "outputs": []
    },
    {
      "cell_type": "code",
      "source": [
        ""
      ],
      "metadata": {
        "id": "s9yTBdSlkEqG"
      },
      "execution_count": null,
      "outputs": []
    },
    {
      "cell_type": "markdown",
      "metadata": {
        "id": "OEQFUbNCA9fm"
      },
      "source": [
        "### 연결하여 출력하기 \n",
        "> print(  ,  )\n",
        "<br/>\n",
        "> print(  +  )"
      ]
    },
    {
      "cell_type": "code",
      "metadata": {
        "id": "O0URZFHFAFfE",
        "outputId": "b18eb4d0-0a02-42b9-a580-eb8c299b5ab3",
        "colab": {
          "base_uri": "https://localhost:8080/"
        }
      },
      "source": [
        "# 콤마, 로 연결하여 출력하기\n",
        "print(14+31)"
      ],
      "execution_count": null,
      "outputs": [
        {
          "output_type": "stream",
          "name": "stdout",
          "text": [
            "45\n"
          ]
        }
      ]
    },
    {
      "cell_type": "code",
      "metadata": {
        "id": "QEjssp5gAU2N",
        "outputId": "e0a0021f-60ef-4c5e-9e57-5d6faa716b78",
        "colab": {
          "base_uri": "https://localhost:8080/"
        }
      },
      "source": [
        "# 더하기 +로 연결하여 출력하기\n",
        "print(14, 31)"
      ],
      "execution_count": null,
      "outputs": [
        {
          "output_type": "stream",
          "name": "stdout",
          "text": [
            "14 31\n"
          ]
        }
      ]
    },
    {
      "cell_type": "code",
      "metadata": {
        "id": "BXvFmqhtAzy1",
        "outputId": "a198be06-5a66-4912-9a23-f5ee25e9dabb",
        "colab": {
          "base_uri": "https://localhost:8080/"
        }
      },
      "source": [
        "print('파이썬+프로그래밍')"
      ],
      "execution_count": null,
      "outputs": [
        {
          "output_type": "stream",
          "name": "stdout",
          "text": [
            "파이썬+프로그래밍\n"
          ]
        }
      ]
    },
    {
      "cell_type": "code",
      "metadata": {
        "id": "Pme3T740B8JM",
        "outputId": "84a7e270-d22d-407a-ef95-ee20fd7e21fe",
        "colab": {
          "base_uri": "https://localhost:8080/"
        }
      },
      "source": [
        "print('파이썬', '프로그래밍')"
      ],
      "execution_count": null,
      "outputs": [
        {
          "output_type": "stream",
          "name": "stdout",
          "text": [
            "파이썬 프로그래밍\n"
          ]
        }
      ]
    },
    {
      "cell_type": "code",
      "source": [
        "print('파이썬'*3)"
      ],
      "metadata": {
        "id": "BGIUAbs4mbEe",
        "outputId": "7f30cecf-09ef-4864-f302-7d620e058271",
        "colab": {
          "base_uri": "https://localhost:8080/"
        }
      },
      "execution_count": null,
      "outputs": [
        {
          "output_type": "stream",
          "name": "stdout",
          "text": [
            "파이썬파이썬파이썬\n"
          ]
        }
      ]
    },
    {
      "cell_type": "code",
      "source": [
        "print('철민이 바보'*100)"
      ],
      "metadata": {
        "id": "acguPssjmbNH",
        "outputId": "3f2e468f-8f43-4485-f60a-0d65db58ca3f",
        "colab": {
          "base_uri": "https://localhost:8080/"
        }
      },
      "execution_count": null,
      "outputs": [
        {
          "output_type": "stream",
          "name": "stdout",
          "text": [
            "철민이 바보철민이 바보철민이 바보철민이 바보철민이 바보철민이 바보철민이 바보철민이 바보철민이 바보철민이 바보철민이 바보철민이 바보철민이 바보철민이 바보철민이 바보철민이 바보철민이 바보철민이 바보철민이 바보철민이 바보철민이 바보철민이 바보철민이 바보철민이 바보철민이 바보철민이 바보철민이 바보철민이 바보철민이 바보철민이 바보철민이 바보철민이 바보철민이 바보철민이 바보철민이 바보철민이 바보철민이 바보철민이 바보철민이 바보철민이 바보철민이 바보철민이 바보철민이 바보철민이 바보철민이 바보철민이 바보철민이 바보철민이 바보철민이 바보철민이 바보철민이 바보철민이 바보철민이 바보철민이 바보철민이 바보철민이 바보철민이 바보철민이 바보철민이 바보철민이 바보철민이 바보철민이 바보철민이 바보철민이 바보철민이 바보철민이 바보철민이 바보철민이 바보철민이 바보철민이 바보철민이 바보철민이 바보철민이 바보철민이 바보철민이 바보철민이 바보철민이 바보철민이 바보철민이 바보철민이 바보철민이 바보철민이 바보철민이 바보철민이 바보철민이 바보철민이 바보철민이 바보철민이 바보철민이 바보철민이 바보철민이 바보철민이 바보철민이 바보철민이 바보철민이 바보철민이 바보철민이 바보철민이 바보철민이 바보철민이 바보\n"
          ]
        }
      ]
    },
    {
      "cell_type": "markdown",
      "metadata": {
        "id": "Y5VKN8McEun1"
      },
      "source": [
        "실습 1. 본인 이름, 관심분야를 한 줄로 출력해보기 "
      ]
    },
    {
      "cell_type": "code",
      "metadata": {
        "id": "tZAX0aBQEtsJ",
        "outputId": "1b0081eb-1f40-4f1c-cbf0-244b3082c62b",
        "colab": {
          "base_uri": "https://localhost:8080/"
        }
      },
      "source": [
        "print('나는 다예이다 관심분야는 파이썬이다.')"
      ],
      "execution_count": null,
      "outputs": [
        {
          "output_type": "stream",
          "name": "stdout",
          "text": [
            "나는 다예이다 관심분야는 파이썬이다.\n"
          ]
        }
      ]
    },
    {
      "cell_type": "markdown",
      "metadata": {
        "id": "zNlNwOErClxr"
      },
      "source": [
        "# 3. 입력명령어\n",
        "### 입력명령어 형식\n",
        "> input('입력안내문')"
      ]
    },
    {
      "cell_type": "code",
      "metadata": {
        "id": "P35K2YD_B_fJ",
        "outputId": "d5d718e6-ca76-4a2c-926a-69fbd435d142",
        "colab": {
          "base_uri": "https://localhost:8080/",
          "height": 54
        }
      },
      "source": [
        "input()"
      ],
      "execution_count": null,
      "outputs": [
        {
          "name": "stdout",
          "output_type": "stream",
          "text": [
            "파이썬 \n"
          ]
        },
        {
          "output_type": "execute_result",
          "data": {
            "text/plain": [
              "'파이썬 '"
            ],
            "application/vnd.google.colaboratory.intrinsic+json": {
              "type": "string"
            }
          },
          "metadata": {},
          "execution_count": 22
        }
      ]
    },
    {
      "cell_type": "code",
      "metadata": {
        "id": "g-WfHArdGA8b",
        "outputId": "fbf07068-9b52-481a-eece-0baa4f92d70a",
        "colab": {
          "base_uri": "https://localhost:8080/",
          "height": 54
        }
      },
      "source": [
        "input(3)"
      ],
      "execution_count": null,
      "outputs": [
        {
          "name": "stdout",
          "output_type": "stream",
          "text": [
            "3456\n"
          ]
        },
        {
          "output_type": "execute_result",
          "data": {
            "text/plain": [
              "'456'"
            ],
            "application/vnd.google.colaboratory.intrinsic+json": {
              "type": "string"
            }
          },
          "metadata": {},
          "execution_count": 23
        }
      ]
    },
    {
      "cell_type": "code",
      "source": [
        "input('입력')"
      ],
      "metadata": {
        "id": "UPX4MbqtoNuN",
        "outputId": "1c11456c-bff3-4231-80f2-d772754468da",
        "colab": {
          "base_uri": "https://localhost:8080/",
          "height": 54
        }
      },
      "execution_count": null,
      "outputs": [
        {
          "name": "stdout",
          "output_type": "stream",
          "text": [
            "입력3월 28일 \n"
          ]
        },
        {
          "output_type": "execute_result",
          "data": {
            "text/plain": [
              "'3월 28일 '"
            ],
            "application/vnd.google.colaboratory.intrinsic+json": {
              "type": "string"
            }
          },
          "metadata": {},
          "execution_count": 25
        }
      ]
    },
    {
      "cell_type": "code",
      "source": [
        "input('아이디')\n",
        "input('비밀번호')"
      ],
      "metadata": {
        "id": "8cumGUDpoaMV",
        "outputId": "25047e9d-102f-43ed-9af8-0c6d06553dfb",
        "colab": {
          "base_uri": "https://localhost:8080/",
          "height": 71
        }
      },
      "execution_count": null,
      "outputs": [
        {
          "name": "stdout",
          "output_type": "stream",
          "text": [
            "아이디dadaprincess\n",
            "비밀번호potato\n"
          ]
        },
        {
          "output_type": "execute_result",
          "data": {
            "text/plain": [
              "'potato'"
            ],
            "application/vnd.google.colaboratory.intrinsic+json": {
              "type": "string"
            }
          },
          "metadata": {},
          "execution_count": 26
        }
      ]
    },
    {
      "cell_type": "markdown",
      "metadata": {
        "id": "5TblMxseGyGG"
      },
      "source": [
        "### 순차구조 \n",
        "\n",
        "<img src='https://github.com/teacher-jiejie/allinone_AI/blob/images/66_%E1%84%89%E1%85%AE%E1%86%AB%E1%84%8E%E1%85%A1%E1%84%80%E1%85%AE%E1%84%8C%E1%85%A9.png?raw=true' width=600>"
      ]
    },
    {
      "cell_type": "code",
      "source": [
        "print('----회원가입----')\n",
        "input('아이디:')\n",
        "print('가입을 환영합니다 공주님!!')"
      ],
      "metadata": {
        "id": "kV0HUhYUoMy_",
        "outputId": "fa2b301f-fb8e-4058-b6eb-24c490b16f5e",
        "colab": {
          "base_uri": "https://localhost:8080/"
        }
      },
      "execution_count": null,
      "outputs": [
        {
          "output_type": "stream",
          "name": "stdout",
          "text": [
            "----회원가입----\n",
            "아이디:dadaprincess\n",
            "가입을 환영합니다 공주님!!\n"
          ]
        }
      ]
    },
    {
      "cell_type": "code",
      "metadata": {
        "id": "CfX6PoPdGX4T",
        "outputId": "e2037a4d-b456-46a7-e265-afb08c780ac3",
        "colab": {
          "base_uri": "https://localhost:8080/"
        }
      },
      "source": [
        "print('-----회원가입-----')\n",
        "input('아이디:')\n",
        "print('가입을 환영합니다 dadaprincess 오구 우리 공주님')"
      ],
      "execution_count": null,
      "outputs": [
        {
          "output_type": "stream",
          "name": "stdout",
          "text": [
            "-----회원가입-----\n",
            "아이디:dadaprincess\n",
            "가입을 환영합니다 dadaprincess 오구 우리 공주님\n"
          ]
        }
      ]
    },
    {
      "cell_type": "code",
      "metadata": {
        "id": "3bE5MP4lIutc",
        "outputId": "010b60b8-0cd2-4ad9-fcdc-5b95ed8b9758",
        "colab": {
          "base_uri": "https://localhost:8080/"
        }
      },
      "source": [
        "print(input('아이디:')+ '님', '가입을 환영할랑말랑말랑하다')"
      ],
      "execution_count": null,
      "outputs": [
        {
          "output_type": "stream",
          "name": "stdout",
          "text": [
            "아이디:다다공두\n",
            "다다공두님 가입을 환영할랑말랑말랑하다\n"
          ]
        }
      ]
    },
    {
      "cell_type": "code",
      "source": [
        "((3+7)-2)/10"
      ],
      "metadata": {
        "id": "i6l8RhqzqjF9",
        "outputId": "e573e3e1-7e47-48b1-9c99-caeaece063c0",
        "colab": {
          "base_uri": "https://localhost:8080/"
        }
      },
      "execution_count": null,
      "outputs": [
        {
          "output_type": "execute_result",
          "data": {
            "text/plain": [
              "0.8"
            ]
          },
          "metadata": {},
          "execution_count": 32
        }
      ]
    },
    {
      "cell_type": "code",
      "source": [
        "print('----공주님의 회원가입----')\n",
        "print(input('아이디:')+ '공주님', '가입을 환영해요플레티넘')"
      ],
      "metadata": {
        "id": "ImPvIRVTrWj6",
        "outputId": "5f5c231f-f526-448d-f07a-66096be137fa",
        "colab": {
          "base_uri": "https://localhost:8080/"
        }
      },
      "execution_count": null,
      "outputs": [
        {
          "output_type": "stream",
          "name": "stdout",
          "text": [
            "----공주님의 회원가입----\n",
            "아이디:다다공두다\n",
            "다다공두다공주님 가입을 환영해요플레티넘\n"
          ]
        }
      ]
    },
    {
      "cell_type": "code",
      "source": [
        "print('----공주님의 회원가입----')\n",
        "print(input('아이디:')+ '공주님'+ '가입을 환영해요플레티넘')"
      ],
      "metadata": {
        "id": "ewHdasStrzEm",
        "outputId": "f093e53f-37e5-4989-d765-8bf1fc2e8d33",
        "colab": {
          "base_uri": "https://localhost:8080/"
        }
      },
      "execution_count": null,
      "outputs": [
        {
          "output_type": "stream",
          "name": "stdout",
          "text": [
            "----공주님의 회원가입----\n",
            "아이디:다다공주\n",
            "다다공주공주님가입을 환영해요플레티넘\n"
          ]
        }
      ]
    },
    {
      "cell_type": "code",
      "source": [
        ""
      ],
      "metadata": {
        "id": "-vLuc3TUr7iz"
      },
      "execution_count": null,
      "outputs": []
    }
  ]
}